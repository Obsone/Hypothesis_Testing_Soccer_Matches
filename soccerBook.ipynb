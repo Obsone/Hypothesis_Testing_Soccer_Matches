{
 "cells": [
  {
   "cell_type": "markdown",
   "id": "3ed0edb2-696b-49ab-9db0-681defcce695",
   "metadata": {},
   "source": [
    "You're working as a sports journalist at a major online sports media company, specializing in soccer analysis and reporting. You've been watching both men's and women's international soccer matches for a number of years, and your gut instinct tells you that more goals are scored in women's international football matches than men's. This would make an interesting investigative article that your subscribers are bound to love, but you'll need to perform a valid statistical hypothesis test to be sure!\n",
    "\n",
    "While scoping this project, you acknowledge that the sport has changed a lot over the years, and performances likely vary a lot depending on the tournament, so you decide to limit the data used in the analysis to only official `FIFA World Cup` matches (not including qualifiers) since `2002-01-01`.\n",
    "\n",
    "You create two datasets containing the results of every official men's and women's international football match since the 19th century, which you scraped from a reliable online source. This data is stored in two CSV files: `women_results.csv` and `men_results.csv`.\n",
    "\n",
    "The question you are trying to determine the answer to is:\n",
    "\n",
    "> Are more goals scored in women's international soccer matches than men's?\n",
    "\n",
    "You assume a **10% significance level**, and use the following null and alternative hypotheses:\n",
    "\n",
    "$H_0$ : The mean number of goals scored in women's international soccer matches is the same as men's.\n",
    "\n",
    "$H_A$ : The mean number of goals scored in women's international soccer matches is greater than men's."
   ]
  },
  {
   "cell_type": "code",
   "execution_count": null,
   "id": "abb7f776",
   "metadata": {},
   "outputs": [],
   "source": [
    "# Start your code here!\n",
    "import pandas as pd\n",
    "import matplotlib.pyplot as plt\n",
    "import pingouin\n",
    "# from scipy.stats import mannwhitneyu\n",
    "\n",
    "men = pd.read_csv(\"men_results.csv\")\n",
    "women = pd.read_csv(\"women_results.csv\")\n",
    "\n",
    "alpha = 0.1\n",
    "\n",
    "# Are more goals scored in women's international soccer matches than men's? Filter to FIFA only == or isin()\n",
    "print(men[men['tournament'] == 'FIFA World Cup'])\n",
    "FIFA_only_men = men['tournament'].isin(['FIFA World Cup'])\n",
    "FIFA_only_women = women['tournament'].isin(['FIFA World Cup'])\n",
    "print(men.head(5))"
   ]
  },
  {
   "cell_type": "code",
   "execution_count": null,
   "id": "1e8e5e0d",
   "metadata": {},
   "outputs": [],
   "source": [
    "# data conversion: pd.to_datetime\n",
    "men['date'] = pd.to_datetime(men['date'])\n",
    "men_subset = men[(men[\"date\"] > \"2002-01-01\") & (FIFA_only_men)]\n",
    "\n",
    "women['date'] = pd.to_datetime(women['date'])\n",
    "women_subset = women[(women[\"date\"] > \"2002-01-01\") & (FIFA_only_women)]\n",
    "print(women_subset)"
   ]
  },
  {
   "cell_type": "markdown",
   "id": "c02d7a7d",
   "metadata": {},
   "source": [
    "- Because there are `two independent groups`, men's and women's, this scenario requires an unpaired two-sample test.\n",
    "- An unpaired t-test and a Wilcoxon-Mann-Whitney test are the two most commmon two-sample tests, where the Wilcoxon-Mann-Whitney test is a non-parametric version of the unpaired t-test."
   ]
  },
  {
   "cell_type": "code",
   "execution_count": null,
   "id": "dee494e7",
   "metadata": {},
   "outputs": [],
   "source": [
    "# EDA\n",
    "counts = men['tournament'].value_counts() #284, men: 964\n",
    "print(counts)\n",
    "print(counts >= 30) #true, we can use a parametric test - unpaired T-test\n",
    "\n",
    "# Verifying more:\n",
    "\n",
    "# check if normally distributed\n",
    "# Create group and goals_scored columns\n",
    "men_subset[\"group\"] = \"men\"\n",
    "women_subset[\"group\"] = \"women\"\n",
    "men_subset[\"goals_scored\"] = men_subset[\"home_score\"] + men_subset[\"away_score\"]\n",
    "women_subset[\"goals_scored\"] = women_subset[\"home_score\"] + women_subset[\"away_score\"]\n",
    "\n",
    "# Determine normality using histograms\n",
    "women_subset[\"goals_scored\"].hist()\n",
    "plt.show()\n",
    "plt.clf()\n",
    "# Goals scored is not normally distributed, so use Wilcoxon-Mann-Whitney test of two groups"
   ]
  }
 ],
 "metadata": {
  "colab": {
   "name": "Welcome to DataCamp Workspaces.ipynb",
   "provenance": []
  },
  "kernelspec": {
   "display_name": "soccerenv",
   "language": "python",
   "name": "python3"
  },
  "language_info": {
   "codemirror_mode": {
    "name": "ipython",
    "version": 3
   },
   "file_extension": ".py",
   "mimetype": "text/x-python",
   "name": "python",
   "nbconvert_exporter": "python",
   "pygments_lexer": "ipython3",
   "version": "3.10.2"
  }
 },
 "nbformat": 4,
 "nbformat_minor": 5
}
